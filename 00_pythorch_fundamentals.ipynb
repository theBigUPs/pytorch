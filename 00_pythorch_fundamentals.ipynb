{
  "nbformat": 4,
  "nbformat_minor": 0,
  "metadata": {
    "colab": {
      "provenance": []
    },
    "kernelspec": {
      "name": "python3",
      "display_name": "Python 3"
    },
    "language_info": {
      "name": "python"
    }
  },
  "cells": [
    {
      "cell_type": "code",
      "execution_count": 1,
      "metadata": {
        "colab": {
          "base_uri": "https://localhost:8080/"
        },
        "id": "tM_xGI-b0Btx",
        "outputId": "6ece9991-3fbb-4b93-e4c7-487ed93d8be4"
      },
      "outputs": [
        {
          "output_type": "stream",
          "name": "stdout",
          "text": [
            "2.1.0+cu121\n"
          ]
        }
      ],
      "source": [
        "import torch\n",
        "import pandas as pd\n",
        "import numpy as np\n",
        "import matplotlib.pyplot as plt\n",
        "print(torch.__version__)"
      ]
    },
    {
      "cell_type": "code",
      "source": [
        "#scalar\n",
        "scalar = torch.tensor(5)\n",
        "scalar"
      ],
      "metadata": {
        "colab": {
          "base_uri": "https://localhost:8080/"
        },
        "id": "3dHD218u07Cf",
        "outputId": "8949ec7b-d3ac-4288-8c19-ab6e33a1fb94"
      },
      "execution_count": 2,
      "outputs": [
        {
          "output_type": "execute_result",
          "data": {
            "text/plain": [
              "tensor(5)"
            ]
          },
          "metadata": {},
          "execution_count": 2
        }
      ]
    },
    {
      "cell_type": "code",
      "source": [
        "scalar.ndim"
      ],
      "metadata": {
        "id": "qhI3f9y9ujM0",
        "colab": {
          "base_uri": "https://localhost:8080/"
        },
        "outputId": "924c6d63-8039-448d-a548-33f5a110a941"
      },
      "execution_count": 3,
      "outputs": [
        {
          "output_type": "execute_result",
          "data": {
            "text/plain": [
              "0"
            ]
          },
          "metadata": {},
          "execution_count": 3
        }
      ]
    },
    {
      "cell_type": "code",
      "source": [
        "scalar.item()"
      ],
      "metadata": {
        "colab": {
          "base_uri": "https://localhost:8080/"
        },
        "id": "f_ImKDERz0X_",
        "outputId": "621570b2-f580-445f-e183-a3c2c78be491"
      },
      "execution_count": 4,
      "outputs": [
        {
          "output_type": "execute_result",
          "data": {
            "text/plain": [
              "5"
            ]
          },
          "metadata": {},
          "execution_count": 4
        }
      ]
    },
    {
      "cell_type": "code",
      "source": [
        "#vector\n",
        "vector=torch.tensor([5,5])\n",
        "vector.ndim"
      ],
      "metadata": {
        "colab": {
          "base_uri": "https://localhost:8080/"
        },
        "id": "g-GDrweHz8l_",
        "outputId": "0eef2a36-c9a4-44c3-b4b0-1a394a88c72f"
      },
      "execution_count": 5,
      "outputs": [
        {
          "output_type": "execute_result",
          "data": {
            "text/plain": [
              "1"
            ]
          },
          "metadata": {},
          "execution_count": 5
        }
      ]
    },
    {
      "cell_type": "code",
      "source": [
        "vector.shape"
      ],
      "metadata": {
        "colab": {
          "base_uri": "https://localhost:8080/"
        },
        "id": "OX6X5vOp0M8h",
        "outputId": "fdf23537-613b-491a-e160-fbf1674ce7ef"
      },
      "execution_count": 6,
      "outputs": [
        {
          "output_type": "execute_result",
          "data": {
            "text/plain": [
              "torch.Size([2])"
            ]
          },
          "metadata": {},
          "execution_count": 6
        }
      ]
    },
    {
      "cell_type": "code",
      "source": [
        "matrix=torch.tensor([[7,9,4],[1,2,2]])\n",
        "matrix"
      ],
      "metadata": {
        "colab": {
          "base_uri": "https://localhost:8080/"
        },
        "id": "HoWCc-AH0Vv2",
        "outputId": "050206ee-0c56-45b8-9135-be0c83c7bd3f"
      },
      "execution_count": 7,
      "outputs": [
        {
          "output_type": "execute_result",
          "data": {
            "text/plain": [
              "tensor([[7, 9, 4],\n",
              "        [1, 2, 2]])"
            ]
          },
          "metadata": {},
          "execution_count": 7
        }
      ]
    },
    {
      "cell_type": "code",
      "source": [
        "matrix.ndim"
      ],
      "metadata": {
        "colab": {
          "base_uri": "https://localhost:8080/"
        },
        "id": "xbTGShh80xNU",
        "outputId": "7e5a4d05-8848-4875-d157-d46c84cbc28d"
      },
      "execution_count": 8,
      "outputs": [
        {
          "output_type": "execute_result",
          "data": {
            "text/plain": [
              "2"
            ]
          },
          "metadata": {},
          "execution_count": 8
        }
      ]
    },
    {
      "cell_type": "code",
      "source": [
        "matrix[1]"
      ],
      "metadata": {
        "colab": {
          "base_uri": "https://localhost:8080/"
        },
        "id": "4x0RcYMR00Ka",
        "outputId": "d7722a38-f842-4f5d-eefa-ee4793e7764e"
      },
      "execution_count": 9,
      "outputs": [
        {
          "output_type": "execute_result",
          "data": {
            "text/plain": [
              "tensor([1, 2, 2])"
            ]
          },
          "metadata": {},
          "execution_count": 9
        }
      ]
    },
    {
      "cell_type": "code",
      "source": [
        "matrix.shape"
      ],
      "metadata": {
        "colab": {
          "base_uri": "https://localhost:8080/"
        },
        "id": "MTDbaXZ209Ai",
        "outputId": "be4aee1e-c466-462e-b191-582a26df1b9d"
      },
      "execution_count": 10,
      "outputs": [
        {
          "output_type": "execute_result",
          "data": {
            "text/plain": [
              "torch.Size([2, 3])"
            ]
          },
          "metadata": {},
          "execution_count": 10
        }
      ]
    },
    {
      "cell_type": "code",
      "source": [
        "#tensor\n",
        "TENSOR=torch.tensor([[[1,2],[3,4],[5,6]]])\n",
        "TENSOR"
      ],
      "metadata": {
        "colab": {
          "base_uri": "https://localhost:8080/"
        },
        "id": "lM4aP9111BQc",
        "outputId": "9727fa2e-9935-40b0-889e-ab9b087c947c"
      },
      "execution_count": 11,
      "outputs": [
        {
          "output_type": "execute_result",
          "data": {
            "text/plain": [
              "tensor([[[1, 2],\n",
              "         [3, 4],\n",
              "         [5, 6]]])"
            ]
          },
          "metadata": {},
          "execution_count": 11
        }
      ]
    },
    {
      "cell_type": "code",
      "source": [
        "TENSOR.ndim"
      ],
      "metadata": {
        "colab": {
          "base_uri": "https://localhost:8080/"
        },
        "id": "4jErHlRw1Yvq",
        "outputId": "ea8b8fd6-78a1-46a6-b1b0-aaf6d79645b5"
      },
      "execution_count": 12,
      "outputs": [
        {
          "output_type": "execute_result",
          "data": {
            "text/plain": [
              "3"
            ]
          },
          "metadata": {},
          "execution_count": 12
        }
      ]
    },
    {
      "cell_type": "code",
      "source": [
        "TENSOR.shape"
      ],
      "metadata": {
        "colab": {
          "base_uri": "https://localhost:8080/"
        },
        "id": "Nrt5-8sM1b0m",
        "outputId": "f64960dd-f3f0-45a2-813c-4914dd3b4871"
      },
      "execution_count": 13,
      "outputs": [
        {
          "output_type": "execute_result",
          "data": {
            "text/plain": [
              "torch.Size([1, 3, 2])"
            ]
          },
          "metadata": {},
          "execution_count": 13
        }
      ]
    },
    {
      "cell_type": "code",
      "source": [
        "#ex1\n",
        "ex1=torch.tensor([[4,3,2,1,1,1,1],[4,3,2,1,1,1,1],[4,3,2,1,1,1,1],[4,3,2,1,1,1,1],[4,3,2,1,1,1,1],[4,3,2,1,1,1,1],[4,3,2,1,1,1,1]])\n",
        "ex1.shape"
      ],
      "metadata": {
        "colab": {
          "base_uri": "https://localhost:8080/"
        },
        "id": "6ouDoN-L2TZh",
        "outputId": "57b1af25-da4b-4943-d8d1-49a291743263"
      },
      "execution_count": 14,
      "outputs": [
        {
          "output_type": "execute_result",
          "data": {
            "text/plain": [
              "torch.Size([7, 7])"
            ]
          },
          "metadata": {},
          "execution_count": 14
        }
      ]
    },
    {
      "cell_type": "code",
      "source": [
        "import torch\n",
        "\n",
        "random_tensor = torch.rand(7, 7)  # Remove parentheses\n",
        "\n",
        "print(random_tensor)"
      ],
      "metadata": {
        "colab": {
          "base_uri": "https://localhost:8080/"
        },
        "id": "-poAkPw8BAdf",
        "outputId": "444dc2ab-8412-4270-b484-d58e03cb1285"
      },
      "execution_count": 15,
      "outputs": [
        {
          "output_type": "stream",
          "name": "stdout",
          "text": [
            "tensor([[0.8780, 0.3074, 0.7220, 0.0487, 0.1288, 0.4787, 0.1698],\n",
            "        [0.4699, 0.6371, 0.1467, 0.3329, 0.2566, 0.7093, 0.0911],\n",
            "        [0.4632, 0.3295, 0.4825, 0.5262, 0.8327, 0.7246, 0.9813],\n",
            "        [0.2366, 0.7851, 0.9384, 0.2487, 0.1381, 0.4912, 0.1444],\n",
            "        [0.6373, 0.5491, 0.2711, 0.0823, 0.7945, 0.1984, 0.6918],\n",
            "        [0.9761, 0.8159, 0.6170, 0.1943, 0.0449, 0.5564, 0.2659],\n",
            "        [0.9532, 0.5214, 0.7545, 0.5069, 0.9560, 0.1675, 0.3734]])\n"
          ]
        }
      ]
    },
    {
      "cell_type": "code",
      "source": [
        "random_image_tensor_cwh =torch.rand(size=(3,224,224))#image tensor with 3 color channels(rgb) width height\n",
        "\n",
        "random_image_tensor_cwh.shape,random_image_tensor_cwh.ndim"
      ],
      "metadata": {
        "colab": {
          "base_uri": "https://localhost:8080/"
        },
        "id": "_EaYSNckB2TF",
        "outputId": "cb57f875-86e8-4b6e-db2b-ebf2e2b72668"
      },
      "execution_count": 16,
      "outputs": [
        {
          "output_type": "execute_result",
          "data": {
            "text/plain": [
              "(torch.Size([3, 224, 224]), 3)"
            ]
          },
          "metadata": {},
          "execution_count": 16
        }
      ]
    },
    {
      "cell_type": "code",
      "source": [
        "#zero and one tensor\n",
        "zero=torch.zeros(3,4)\n",
        "zero"
      ],
      "metadata": {
        "colab": {
          "base_uri": "https://localhost:8080/"
        },
        "id": "phMSSP8iCgSx",
        "outputId": "f97b15ce-6efe-4782-d9bf-5c93184bdb33"
      },
      "execution_count": 17,
      "outputs": [
        {
          "output_type": "execute_result",
          "data": {
            "text/plain": [
              "tensor([[0., 0., 0., 0.],\n",
              "        [0., 0., 0., 0.],\n",
              "        [0., 0., 0., 0.]])"
            ]
          },
          "metadata": {},
          "execution_count": 17
        }
      ]
    },
    {
      "cell_type": "code",
      "source": [
        "one=torch.ones(4,4)\n",
        "one"
      ],
      "metadata": {
        "colab": {
          "base_uri": "https://localhost:8080/"
        },
        "id": "2fyDge4OCxaa",
        "outputId": "d07d51c2-e03f-40e7-d92f-118cd013cc5f"
      },
      "execution_count": 18,
      "outputs": [
        {
          "output_type": "execute_result",
          "data": {
            "text/plain": [
              "tensor([[1., 1., 1., 1.],\n",
              "        [1., 1., 1., 1.],\n",
              "        [1., 1., 1., 1.],\n",
              "        [1., 1., 1., 1.]])"
            ]
          },
          "metadata": {},
          "execution_count": 18
        }
      ]
    },
    {
      "cell_type": "code",
      "source": [
        "#range of tensors and tensors like\n",
        "like=torch.arange(start=1,end=1200,step=23)#goes from 1 to 11\n",
        "like"
      ],
      "metadata": {
        "colab": {
          "base_uri": "https://localhost:8080/"
        },
        "id": "FaAeM6BkDPjv",
        "outputId": "00a3c7e8-a97e-4f9e-d274-2e12a648e90a"
      },
      "execution_count": 19,
      "outputs": [
        {
          "output_type": "execute_result",
          "data": {
            "text/plain": [
              "tensor([   1,   24,   47,   70,   93,  116,  139,  162,  185,  208,  231,  254,\n",
              "         277,  300,  323,  346,  369,  392,  415,  438,  461,  484,  507,  530,\n",
              "         553,  576,  599,  622,  645,  668,  691,  714,  737,  760,  783,  806,\n",
              "         829,  852,  875,  898,  921,  944,  967,  990, 1013, 1036, 1059, 1082,\n",
              "        1105, 1128, 1151, 1174, 1197])"
            ]
          },
          "metadata": {},
          "execution_count": 19
        }
      ]
    },
    {
      "cell_type": "code",
      "source": [
        "torch.zeros_like(like)"
      ],
      "metadata": {
        "colab": {
          "base_uri": "https://localhost:8080/"
        },
        "id": "yPcVGWyKD-4A",
        "outputId": "762cbfe7-04a0-4a1e-8614-18629c304176"
      },
      "execution_count": 20,
      "outputs": [
        {
          "output_type": "execute_result",
          "data": {
            "text/plain": [
              "tensor([0, 0, 0, 0, 0, 0, 0, 0, 0, 0, 0, 0, 0, 0, 0, 0, 0, 0, 0, 0, 0, 0, 0, 0,\n",
              "        0, 0, 0, 0, 0, 0, 0, 0, 0, 0, 0, 0, 0, 0, 0, 0, 0, 0, 0, 0, 0, 0, 0, 0,\n",
              "        0, 0, 0, 0, 0])"
            ]
          },
          "metadata": {},
          "execution_count": 20
        }
      ]
    },
    {
      "cell_type": "code",
      "source": [
        "float16_tensor=torch.tensor([300,4,5],dtype=torch.float16,device=None)#device can be gpu or cuda cpu==none\n",
        "float16_tensor.dtype"
      ],
      "metadata": {
        "colab": {
          "base_uri": "https://localhost:8080/"
        },
        "id": "2PQDFmM4EoYf",
        "outputId": "4bc4aca2-948c-41ca-ec38-dfcf3d58de58"
      },
      "execution_count": 21,
      "outputs": [
        {
          "output_type": "execute_result",
          "data": {
            "text/plain": [
              "torch.float16"
            ]
          },
          "metadata": {},
          "execution_count": 21
        }
      ]
    },
    {
      "cell_type": "code",
      "source": [
        "#convert tensor\n",
        "float32_tensor=float16_tensor.type(torch.float32)\n",
        "float32_tensor.dtype"
      ],
      "metadata": {
        "colab": {
          "base_uri": "https://localhost:8080/"
        },
        "id": "m3ocxIzJGi_f",
        "outputId": "f6da5b3d-b112-4f48-c281-e6ac2b00d8b7"
      },
      "execution_count": 22,
      "outputs": [
        {
          "output_type": "execute_result",
          "data": {
            "text/plain": [
              "torch.float32"
            ]
          },
          "metadata": {},
          "execution_count": 22
        }
      ]
    },
    {
      "cell_type": "code",
      "source": [
        "float32_tensor*float16_tensor"
      ],
      "metadata": {
        "colab": {
          "base_uri": "https://localhost:8080/"
        },
        "id": "ro-tk4bLHDAw",
        "outputId": "eec8f463-9271-4ed0-ac53-697146839682"
      },
      "execution_count": 23,
      "outputs": [
        {
          "output_type": "execute_result",
          "data": {
            "text/plain": [
              "tensor([9.0000e+04, 1.6000e+01, 2.5000e+01])"
            ]
          },
          "metadata": {},
          "execution_count": 23
        }
      ]
    },
    {
      "cell_type": "code",
      "source": [
        "int32t=torch.tensor([3,4,5],dtype=torch.int32)\n",
        "int32t"
      ],
      "metadata": {
        "colab": {
          "base_uri": "https://localhost:8080/"
        },
        "id": "by3wqeIAHb0j",
        "outputId": "6848ed60-c6b0-4440-ebc7-2bcc3fe0e64c"
      },
      "execution_count": 24,
      "outputs": [
        {
          "output_type": "execute_result",
          "data": {
            "text/plain": [
              "tensor([3, 4, 5], dtype=torch.int32)"
            ]
          },
          "metadata": {},
          "execution_count": 24
        }
      ]
    },
    {
      "cell_type": "code",
      "source": [
        "#datatype shape and device of tensor\n",
        "test_tensor=torch.rand(3,9)\n",
        "print(f\" Datatype: {test_tensor.dtype} \\n Shape: {test_tensor.shape} \\n Device: {test_tensor.device}\")"
      ],
      "metadata": {
        "colab": {
          "base_uri": "https://localhost:8080/"
        },
        "id": "i4PqGRWZIQqF",
        "outputId": "13543034-a006-41db-eb46-d249bea1bd1f"
      },
      "execution_count": 25,
      "outputs": [
        {
          "output_type": "stream",
          "name": "stdout",
          "text": [
            " Datatype: torch.float32 \n",
            " Shape: torch.Size([3, 9]) \n",
            " Device: cpu\n"
          ]
        }
      ]
    },
    {
      "cell_type": "code",
      "source": [
        "#mainpulating tensors\n",
        "tensor = torch.tensor([1,2,3])\n",
        "print(tensor+10)\n",
        "print(tensor*10)\n",
        "print(tensor-10)\n",
        "print(torch.mul(tensor,10))"
      ],
      "metadata": {
        "colab": {
          "base_uri": "https://localhost:8080/"
        },
        "id": "3_T-KS-Y7TON",
        "outputId": "edcba038-1b8a-42b3-e41d-1bd9d8295504"
      },
      "execution_count": 26,
      "outputs": [
        {
          "output_type": "stream",
          "name": "stdout",
          "text": [
            "tensor([11, 12, 13])\n",
            "tensor([10, 20, 30])\n",
            "tensor([-9, -8, -7])\n",
            "tensor([10, 20, 30])\n"
          ]
        }
      ]
    },
    {
      "cell_type": "code",
      "source": [
        "#matrix multiplication (dot product)\n",
        "%%time\n",
        "torch.matmul(tensor,tensor)"
      ],
      "metadata": {
        "colab": {
          "base_uri": "https://localhost:8080/"
        },
        "id": "mHO2SEUT9gYr",
        "outputId": "87e76624-6a1a-4328-88bb-1569a0fc9bfb"
      },
      "execution_count": 27,
      "outputs": [
        {
          "output_type": "stream",
          "name": "stdout",
          "text": [
            "CPU times: user 370 µs, sys: 66 µs, total: 436 µs\n",
            "Wall time: 2.42 ms\n"
          ]
        },
        {
          "output_type": "execute_result",
          "data": {
            "text/plain": [
              "tensor(14)"
            ]
          },
          "metadata": {},
          "execution_count": 27
        }
      ]
    },
    {
      "cell_type": "code",
      "source": [
        "r1=torch.rand(3,4)\n",
        "r2=torch.rand(3,4)\n",
        "torch.matmul(r1,r2.T)"
      ],
      "metadata": {
        "colab": {
          "base_uri": "https://localhost:8080/"
        },
        "id": "Cz8PonWyCByZ",
        "outputId": "6105abe2-e40a-4ac3-8a2b-69604a6e93f8"
      },
      "execution_count": 28,
      "outputs": [
        {
          "output_type": "execute_result",
          "data": {
            "text/plain": [
              "tensor([[1.3635, 2.1158, 1.5769],\n",
              "        [0.6271, 1.2109, 0.7483],\n",
              "        [0.8711, 1.1632, 0.9055]])"
            ]
          },
          "metadata": {},
          "execution_count": 28
        }
      ]
    },
    {
      "cell_type": "code",
      "source": [
        "#finding min max mean and sum (matrix aggregation)\n",
        "test = torch.rand(3,3)\n",
        "print(test)\n",
        "print(torch.min(test))\n",
        "print(torch.max(test))\n",
        "print(torch.mean(test))\n",
        "print(torch.sum(test))\n",
        "#datatype needs to be a float or complex for the operation to work\n",
        "print(torch.mean(torch.arange(start=1,end=1200,step=23).type(torch.float16)))\n",
        "print(torch.argmin(test))\n",
        "print(torch.argmax(test))"
      ],
      "metadata": {
        "colab": {
          "base_uri": "https://localhost:8080/"
        },
        "id": "tjtv2eJaDX0u",
        "outputId": "adf8cc60-844a-4ecc-dab5-b36465a10ac2"
      },
      "execution_count": 29,
      "outputs": [
        {
          "output_type": "stream",
          "name": "stdout",
          "text": [
            "tensor([[0.1812, 0.6553, 0.9313],\n",
            "        [0.9340, 0.8814, 0.8818],\n",
            "        [0.6966, 0.7464, 0.3272]])\n",
            "tensor(0.1812)\n",
            "tensor(0.9340)\n",
            "tensor(0.6928)\n",
            "tensor(6.2353)\n",
            "tensor(599., dtype=torch.float16)\n",
            "tensor(0)\n",
            "tensor(3)\n"
          ]
        }
      ]
    },
    {
      "cell_type": "code",
      "source": [
        "xtensor=torch.arange(1,11,dtype=torch.float32)\n",
        "xtensor.shape"
      ],
      "metadata": {
        "colab": {
          "base_uri": "https://localhost:8080/"
        },
        "id": "v6awL7rIDtYt",
        "outputId": "0dc54d9e-3fb8-46f2-c0d8-954211890cb0"
      },
      "execution_count": 37,
      "outputs": [
        {
          "output_type": "execute_result",
          "data": {
            "text/plain": [
              "torch.Size([10])"
            ]
          },
          "metadata": {},
          "execution_count": 37
        }
      ]
    },
    {
      "cell_type": "code",
      "source": [
        "#reshaping\n",
        "xtensor_rehaped=xtensor.reshape(1,10)\n",
        "print(xtensor_rehaped)\n",
        "xtensor_rehaped=xtensor.reshape(10,1)\n",
        "print(xtensor_rehaped)\n",
        "xtensor_rehaped=xtensor.reshape(5,2)\n",
        "print(xtensor_rehaped)"
      ],
      "metadata": {
        "colab": {
          "base_uri": "https://localhost:8080/"
        },
        "id": "IO2HuhBtEdy7",
        "outputId": "dca4519e-1dc7-459f-8da4-87924a2bf11e"
      },
      "execution_count": 38,
      "outputs": [
        {
          "output_type": "stream",
          "name": "stdout",
          "text": [
            "tensor([[ 1.,  2.,  3.,  4.,  5.,  6.,  7.,  8.,  9., 10.]])\n",
            "tensor([[ 1.],\n",
            "        [ 2.],\n",
            "        [ 3.],\n",
            "        [ 4.],\n",
            "        [ 5.],\n",
            "        [ 6.],\n",
            "        [ 7.],\n",
            "        [ 8.],\n",
            "        [ 9.],\n",
            "        [10.]])\n",
            "tensor([[ 1.,  2.],\n",
            "        [ 3.,  4.],\n",
            "        [ 5.,  6.],\n",
            "        [ 7.,  8.],\n",
            "        [ 9., 10.]])\n"
          ]
        }
      ]
    },
    {
      "cell_type": "code",
      "source": [
        "#views\n",
        "ztensor=xtensor.view(5,2)\n",
        "print(ztensor)\n",
        "print(xtensor)\n",
        "#changing value in views changes the original\n",
        "ztensor[0,0]=23\n",
        "ztensor,xtensor"
      ],
      "metadata": {
        "colab": {
          "base_uri": "https://localhost:8080/"
        },
        "id": "8wXpugucFMg6",
        "outputId": "633db06c-1f18-4df9-e6c5-95762a620920"
      },
      "execution_count": 41,
      "outputs": [
        {
          "output_type": "stream",
          "name": "stdout",
          "text": [
            "tensor([[23.,  2.],\n",
            "        [ 3.,  4.],\n",
            "        [ 5.,  6.],\n",
            "        [ 7.,  8.],\n",
            "        [ 9., 10.]])\n",
            "tensor([23.,  2.,  3.,  4.,  5.,  6.,  7.,  8.,  9., 10.])\n"
          ]
        },
        {
          "output_type": "execute_result",
          "data": {
            "text/plain": [
              "(tensor([[23.,  2.],\n",
              "         [ 3.,  4.],\n",
              "         [ 5.,  6.],\n",
              "         [ 7.,  8.],\n",
              "         [ 9., 10.]]),\n",
              " tensor([23.,  2.,  3.,  4.,  5.,  6.,  7.,  8.,  9., 10.]))"
            ]
          },
          "metadata": {},
          "execution_count": 41
        }
      ]
    },
    {
      "cell_type": "code",
      "source": [
        "#stack\n",
        "xstack=torch.stack([xtensor,xtensor,xtensor,xtensor],dim=1)\n",
        "xstack"
      ],
      "metadata": {
        "colab": {
          "base_uri": "https://localhost:8080/"
        },
        "id": "2vaQDDXVF-qP",
        "outputId": "c0a74825-7e64-4396-f5b9-197db8c04ecc"
      },
      "execution_count": 44,
      "outputs": [
        {
          "output_type": "execute_result",
          "data": {
            "text/plain": [
              "tensor([[23., 23., 23., 23.],\n",
              "        [ 2.,  2.,  2.,  2.],\n",
              "        [ 3.,  3.,  3.,  3.],\n",
              "        [ 4.,  4.,  4.,  4.],\n",
              "        [ 5.,  5.,  5.,  5.],\n",
              "        [ 6.,  6.,  6.,  6.],\n",
              "        [ 7.,  7.,  7.,  7.],\n",
              "        [ 8.,  8.,  8.,  8.],\n",
              "        [ 9.,  9.,  9.,  9.],\n",
              "        [10., 10., 10., 10.]])"
            ]
          },
          "metadata": {},
          "execution_count": 44
        }
      ]
    },
    {
      "cell_type": "code",
      "source": [
        "#squeeze removes the 1 in 1 10\n",
        "xtensor_rehaped=xtensor.reshape(1,10)\n",
        "print(xtensor_rehaped.shape)\n",
        "print(xtensor_rehaped.squeeze())\n",
        "print(xtensor_rehaped.squeeze().shape)"
      ],
      "metadata": {
        "colab": {
          "base_uri": "https://localhost:8080/"
        },
        "id": "qEXnl3cXGj5m",
        "outputId": "46ad9a58-42a3-4ffb-e91d-3a3131e9aa04"
      },
      "execution_count": 46,
      "outputs": [
        {
          "output_type": "stream",
          "name": "stdout",
          "text": [
            "torch.Size([1, 10])\n",
            "tensor([23.,  2.,  3.,  4.,  5.,  6.,  7.,  8.,  9., 10.])\n",
            "torch.Size([10])\n"
          ]
        }
      ]
    },
    {
      "cell_type": "code",
      "source": [
        "#unsqueeze adds the 1 in 1 10\n",
        "squeezed=xtensor_rehaped.squeeze()\n",
        "print(squeezed.shape)\n",
        "print(squeezed)\n",
        "print(squeezed.unsqueeze(dim=1).shape)\n",
        "print(squeezed.unsqueeze(dim=1))\n"
      ],
      "metadata": {
        "colab": {
          "base_uri": "https://localhost:8080/"
        },
        "id": "R_cGa5zyHukV",
        "outputId": "3799d278-1174-4e36-9d91-fde518f9b03a"
      },
      "execution_count": 51,
      "outputs": [
        {
          "output_type": "stream",
          "name": "stdout",
          "text": [
            "torch.Size([10])\n",
            "tensor([23.,  2.,  3.,  4.,  5.,  6.,  7.,  8.,  9., 10.])\n",
            "torch.Size([10, 1])\n",
            "tensor([[23.],\n",
            "        [ 2.],\n",
            "        [ 3.],\n",
            "        [ 4.],\n",
            "        [ 5.],\n",
            "        [ 6.],\n",
            "        [ 7.],\n",
            "        [ 8.],\n",
            "        [ 9.],\n",
            "        [10.]])\n"
          ]
        }
      ]
    },
    {
      "cell_type": "code",
      "source": [
        "#permute rearranges the tensor and returns a view\n",
        "original=torch.rand(size=(224,224,3))\n",
        "permuted=original.permute(2,0,1) #3 goes to the beggining first 224 becomes second second 224 becomes third\n",
        "print(original.shape)\n",
        "print(permuted.shape)"
      ],
      "metadata": {
        "colab": {
          "base_uri": "https://localhost:8080/"
        },
        "id": "Ol68niF4I2NL",
        "outputId": "2bb6e984-d35b-4758-fe0c-e6e0852217bc"
      },
      "execution_count": 53,
      "outputs": [
        {
          "output_type": "stream",
          "name": "stdout",
          "text": [
            "torch.Size([224, 224, 3])\n",
            "torch.Size([3, 224, 224])\n"
          ]
        }
      ]
    },
    {
      "cell_type": "code",
      "source": [
        "#indexing\n",
        "indexing=torch.arange(1,10).reshape(1,3,3)\n",
        "indexing,indexing.shape"
      ],
      "metadata": {
        "colab": {
          "base_uri": "https://localhost:8080/"
        },
        "id": "JbYqv9ApKBJT",
        "outputId": "09861bcb-e98c-4bec-a07d-6f46e84220c6"
      },
      "execution_count": 54,
      "outputs": [
        {
          "output_type": "execute_result",
          "data": {
            "text/plain": [
              "(tensor([[[1, 2, 3],\n",
              "          [4, 5, 6],\n",
              "          [7, 8, 9]]]),\n",
              " torch.Size([1, 3, 3]))"
            ]
          },
          "metadata": {},
          "execution_count": 54
        }
      ]
    },
    {
      "cell_type": "code",
      "source": [
        "indexing[0,1,2]"
      ],
      "metadata": {
        "colab": {
          "base_uri": "https://localhost:8080/"
        },
        "id": "5whNsqc9Kqf3",
        "outputId": "3846d320-8dbd-4435-a402-4bca0ff39a0b"
      },
      "execution_count": 59,
      "outputs": [
        {
          "output_type": "execute_result",
          "data": {
            "text/plain": [
              "tensor(6)"
            ]
          },
          "metadata": {},
          "execution_count": 59
        }
      ]
    },
    {
      "cell_type": "code",
      "source": [
        "indexing[:,:,1]#gets the columns"
      ],
      "metadata": {
        "colab": {
          "base_uri": "https://localhost:8080/"
        },
        "id": "G9vSzD6YLMOl",
        "outputId": "ad806279-cef2-49cc-bb35-4eb6da55e4ec"
      },
      "execution_count": 67,
      "outputs": [
        {
          "output_type": "execute_result",
          "data": {
            "text/plain": [
              "tensor([[2, 5, 8]])"
            ]
          },
          "metadata": {},
          "execution_count": 67
        }
      ]
    },
    {
      "cell_type": "code",
      "source": [
        "#you can use pytorch interchangibly with numpy using torch.from_numpy() and export to numpy using torch.numpy()"
      ],
      "metadata": {
        "id": "jDuGfYQDMWP0"
      },
      "execution_count": null,
      "outputs": []
    },
    {
      "cell_type": "code",
      "source": [],
      "metadata": {
        "colab": {
          "base_uri": "https://localhost:8080/"
        },
        "id": "pOFTzqcROcvz",
        "outputId": "09d138e6-131b-46d8-ec3a-c161e4acc09b"
      },
      "execution_count": 74,
      "outputs": [
        {
          "output_type": "execute_result",
          "data": {
            "text/plain": [
              "<torch._C.Generator at 0x789ee9b955d0>"
            ]
          },
          "metadata": {},
          "execution_count": 74
        }
      ]
    },
    {
      "cell_type": "code",
      "source": [
        "#reproducibility\n",
        "custom_seed=12\n",
        "torch.manual_seed(custom_seed)\n",
        "randa=torch.rand(3,3)\n",
        "torch.manual_seed(custom_seed)\n",
        "randb=torch.rand(3,3)\n",
        "print(randa)\n",
        "print(randb)"
      ],
      "metadata": {
        "colab": {
          "base_uri": "https://localhost:8080/"
        },
        "id": "WkbhwrW4NIez",
        "outputId": "c4b44985-3dd1-4b13-b78e-7737a2a49f2d"
      },
      "execution_count": 75,
      "outputs": [
        {
          "output_type": "stream",
          "name": "stdout",
          "text": [
            "tensor([[0.4657, 0.2328, 0.4527],\n",
            "        [0.5871, 0.4086, 0.1272],\n",
            "        [0.6373, 0.2421, 0.7312]])\n",
            "tensor([[0.7224, 0.1992, 0.6948],\n",
            "        [0.5830, 0.6318, 0.5559],\n",
            "        [0.1262, 0.9790, 0.8443]])\n"
          ]
        }
      ]
    },
    {
      "cell_type": "code",
      "source": [
        "#running in the gpu\n",
        "!nvidia-smi"
      ],
      "metadata": {
        "colab": {
          "base_uri": "https://localhost:8080/"
        },
        "id": "g32nprwMOwuv",
        "outputId": "a329b5b9-0b9f-42cf-8e5c-15dd93288b72"
      },
      "execution_count": 1,
      "outputs": [
        {
          "output_type": "stream",
          "name": "stdout",
          "text": [
            "Sun Mar 10 12:01:30 2024       \n",
            "+---------------------------------------------------------------------------------------+\n",
            "| NVIDIA-SMI 535.104.05             Driver Version: 535.104.05   CUDA Version: 12.2     |\n",
            "|-----------------------------------------+----------------------+----------------------+\n",
            "| GPU  Name                 Persistence-M | Bus-Id        Disp.A | Volatile Uncorr. ECC |\n",
            "| Fan  Temp   Perf          Pwr:Usage/Cap |         Memory-Usage | GPU-Util  Compute M. |\n",
            "|                                         |                      |               MIG M. |\n",
            "|=========================================+======================+======================|\n",
            "|   0  Tesla T4                       Off | 00000000:00:04.0 Off |                    0 |\n",
            "| N/A   62C    P8              11W /  70W |      0MiB / 15360MiB |      0%      Default |\n",
            "|                                         |                      |                  N/A |\n",
            "+-----------------------------------------+----------------------+----------------------+\n",
            "                                                                                         \n",
            "+---------------------------------------------------------------------------------------+\n",
            "| Processes:                                                                            |\n",
            "|  GPU   GI   CI        PID   Type   Process name                            GPU Memory |\n",
            "|        ID   ID                                                             Usage      |\n",
            "|=======================================================================================|\n",
            "|  No running processes found                                                           |\n",
            "+---------------------------------------------------------------------------------------+\n"
          ]
        }
      ]
    },
    {
      "cell_type": "code",
      "source": [
        "#check for gpu\n",
        "import torch\n",
        "torch.cuda.is_available()"
      ],
      "metadata": {
        "colab": {
          "base_uri": "https://localhost:8080/"
        },
        "id": "VDo2gyLcPWrM",
        "outputId": "d814a829-3e98-4af9-9699-b5d63740587e"
      },
      "execution_count": 2,
      "outputs": [
        {
          "output_type": "execute_result",
          "data": {
            "text/plain": [
              "True"
            ]
          },
          "metadata": {},
          "execution_count": 2
        }
      ]
    },
    {
      "cell_type": "code",
      "source": [
        "#setup device agnostic code\n",
        "device=\"cuda\" if torch.cuda.is_available() else \"cpu\"\n",
        "device"
      ],
      "metadata": {
        "colab": {
          "base_uri": "https://localhost:8080/",
          "height": 35
        },
        "id": "cBpaJVsKPjin",
        "outputId": "5af528a9-d475-47d9-e2bf-53653c3a0fc8"
      },
      "execution_count": 3,
      "outputs": [
        {
          "output_type": "execute_result",
          "data": {
            "text/plain": [
              "'cuda'"
            ],
            "application/vnd.google.colaboratory.intrinsic+json": {
              "type": "string"
            }
          },
          "metadata": {},
          "execution_count": 3
        }
      ]
    },
    {
      "cell_type": "code",
      "source": [
        "tensor=torch.tensor([1,2,3],device=\"cuda\")#if you dont specify it runs on the cpu\n",
        "tensor.device"
      ],
      "metadata": {
        "colab": {
          "base_uri": "https://localhost:8080/"
        },
        "id": "c1x_F7OzQE3T",
        "outputId": "fb937a8f-a1ea-496a-e5b8-27e9c2f247a9"
      },
      "execution_count": 6,
      "outputs": [
        {
          "output_type": "execute_result",
          "data": {
            "text/plain": [
              "device(type='cuda', index=0)"
            ]
          },
          "metadata": {},
          "execution_count": 6
        }
      ]
    },
    {
      "cell_type": "code",
      "source": [
        "tensor=torch.tensor([23,23,26])\n",
        "print(tensor.device)\n",
        "gputensor=tensor.to(device)\n",
        "print(gputensor.device)\n",
        "back_to_cpu=gputensor.cpu()\n",
        "print(back_to_cpu.device)"
      ],
      "metadata": {
        "colab": {
          "base_uri": "https://localhost:8080/"
        },
        "id": "gmzfhY2QQvYx",
        "outputId": "f8c73f53-1f75-4118-bdb8-27e304848a50"
      },
      "execution_count": 9,
      "outputs": [
        {
          "output_type": "stream",
          "name": "stdout",
          "text": [
            "cpu\n",
            "cuda:0\n",
            "cpu\n"
          ]
        }
      ]
    }
  ]
}