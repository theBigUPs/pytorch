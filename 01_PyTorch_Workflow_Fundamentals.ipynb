{
  "nbformat": 4,
  "nbformat_minor": 0,
  "metadata": {
    "colab": {
      "provenance": [],
      "gpuType": "T4"
    },
    "kernelspec": {
      "name": "python3",
      "display_name": "Python 3"
    },
    "language_info": {
      "name": "python"
    },
    "accelerator": "GPU"
  },
  "cells": [
    {
      "cell_type": "code",
      "execution_count": 106,
      "metadata": {
        "id": "q-5MHnynTnz2"
      },
      "outputs": [],
      "source": [
        "import torch\n",
        "from torch import nn\n",
        "import matplotlib.pyplot as plt\n"
      ]
    },
    {
      "cell_type": "code",
      "source": [
        "#creating known data using linear regression\n",
        "#linear retgression is this Y=mx+b it creates a straight line that best fits our data\n",
        "#weight = m bias = b\n",
        "\n",
        "weight=0.7\n",
        "bias=0.3\n",
        "\n",
        "start=0\n",
        "end=1\n",
        "step=0.02\n",
        "X=torch.arange(start,end,step).unsqueeze(dim=1)\n",
        "y= weight*X + bias"
      ],
      "metadata": {
        "id": "CUrBDk7Tog1u"
      },
      "execution_count": 144,
      "outputs": []
    },
    {
      "cell_type": "code",
      "source": [
        "X[:10],y[:10]"
      ],
      "metadata": {
        "colab": {
          "base_uri": "https://localhost:8080/"
        },
        "id": "YWJcOmfmreWI",
        "outputId": "22c2acd1-7300-4445-d2cb-77db1fbb2e5a"
      },
      "execution_count": 3,
      "outputs": [
        {
          "output_type": "execute_result",
          "data": {
            "text/plain": [
              "(tensor([[0.0000],\n",
              "         [0.0200],\n",
              "         [0.0400],\n",
              "         [0.0600],\n",
              "         [0.0800],\n",
              "         [0.1000],\n",
              "         [0.1200],\n",
              "         [0.1400],\n",
              "         [0.1600],\n",
              "         [0.1800]]),\n",
              " tensor([[0.3000],\n",
              "         [0.3140],\n",
              "         [0.3280],\n",
              "         [0.3420],\n",
              "         [0.3560],\n",
              "         [0.3700],\n",
              "         [0.3840],\n",
              "         [0.3980],\n",
              "         [0.4120],\n",
              "         [0.4260]]))"
            ]
          },
          "metadata": {},
          "execution_count": 3
        }
      ]
    },
    {
      "cell_type": "code",
      "source": [
        "#splitting data into training and test sets\n",
        "train_split=int(0.8*len(X))\n",
        "\n",
        "x_train=X[:train_split]\n",
        "y_train=y[:train_split]\n",
        "\n",
        "x_test=X[train_split:]\n",
        "y_test=y[train_split:]\n",
        "len(x_train), len(y_train), len(x_test), len(y_test)"
      ],
      "metadata": {
        "colab": {
          "base_uri": "https://localhost:8080/"
        },
        "id": "c3WXXyhOrqTO",
        "outputId": "1770c3f3-5665-4a93-f0d4-085650b4af1b"
      },
      "execution_count": 145,
      "outputs": [
        {
          "output_type": "execute_result",
          "data": {
            "text/plain": [
              "(40, 40, 10, 10)"
            ]
          },
          "metadata": {},
          "execution_count": 145
        }
      ]
    },
    {
      "cell_type": "code",
      "source": [
        "def plot_pred(train_data=x_train,train_label=y_train,test_data=x_test,test_label=y_test,predictions=None):\n",
        "  \"plot\"\n",
        "  plt.figure(figsize=(10,7))\n",
        "  plt.scatter(train_data,train_label,c=\"b\",s=4,label=\"training data\")\n",
        "\n",
        "  plt.scatter(test_data,test_label,c=\"r\",s=4,label=\"testing data\")\n",
        "\n",
        "  if predictions!=None:\n",
        "    plt.scatter(test_data,predictions,c=\"g\",s=4,label=\"predictions\")\n",
        "  plt.legend(prop={\"size\":14})"
      ],
      "metadata": {
        "id": "OUR1Eewkt_Pl"
      },
      "execution_count": 4,
      "outputs": []
    },
    {
      "cell_type": "code",
      "source": [
        "plot_pred()"
      ],
      "metadata": {
        "colab": {
          "base_uri": "https://localhost:8080/",
          "height": 455
        },
        "id": "GdTRTCyUv0XD",
        "outputId": "2a99900a-474f-4e9d-fa15-70b5b3d21d05"
      },
      "execution_count": 6,
      "outputs": [
        {
          "output_type": "display_data",
          "data": {
            "text/plain": [
              "<Figure size 1400x700 with 1 Axes>"
            ],
            "image/png": "[encoded data removed]"
          },
          "metadata": {}
        }
      ]
    },
    {
      "cell_type": "code",
      "source": [
        "class LinearRegressionModel(nn.Module):#inherits from nn.module\n",
        "  def __init__(self):\n",
        "    super().__init__()\n",
        "    self.weight=nn.Parameter(torch.randn(1,requires_grad=True,dtype=torch.float))\n",
        "    self.bias=nn.Parameter(torch.randn(1,requires_grad=True,dtype=torch.float))\n",
        "  def forward(self, x:torch.tensor)->torch.tensor:#-> annotates the return type\n",
        "    return self.weight*x+self.bias"
      ],
      "metadata": {
        "id": "e2aky34VzXcn"
      },
      "execution_count": 109,
      "outputs": []
    },
    {
      "cell_type": "code",
      "source": [
        "torch.manual_seed(42)\n",
        "\n",
        "model_0=LinearRegressionModel()\n",
        "model_0.state_dict()"
      ],
      "metadata": {
        "colab": {
          "base_uri": "https://localhost:8080/"
        },
        "id": "Ci3VoktxtuA1",
        "outputId": "206b17e8-3ac4-4f0d-8132-d3466f9a7221"
      },
      "execution_count": 146,
      "outputs": [
        {
          "output_type": "execute_result",
          "data": {
            "text/plain": [
              "OrderedDict([('weight', tensor([0.3367])), ('bias', tensor([0.1288]))])"
            ]
          },
          "metadata": {},
          "execution_count": 146
        }
      ]
    },
    {
      "cell_type": "code",
      "source": [
        "#making predictions using inferance\n",
        "with torch.inference_mode():#turns of gradient because we dont need it while running our model and makes inferance more performant\n",
        "  y_pred = model_0(x_test)\n",
        "y_pred,y_test"
      ],
      "metadata": {
        "colab": {
          "base_uri": "https://localhost:8080/"
        },
        "id": "FBwF88lQ3MSh",
        "outputId": "966d612d-fba4-4975-f3c5-b4d6414c3739"
      },
      "execution_count": 29,
      "outputs": [
        {
          "output_type": "execute_result",
          "data": {
            "text/plain": [
              "(tensor([[0.3982],\n",
              "         [0.4049],\n",
              "         [0.4116],\n",
              "         [0.4184],\n",
              "         [0.4251],\n",
              "         [0.4318],\n",
              "         [0.4386],\n",
              "         [0.4453],\n",
              "         [0.4520],\n",
              "         [0.4588]]),\n",
              " tensor([[0.8600],\n",
              "         [0.8740],\n",
              "         [0.8880],\n",
              "         [0.9020],\n",
              "         [0.9160],\n",
              "         [0.9300],\n",
              "         [0.9440],\n",
              "         [0.9580],\n",
              "         [0.9720],\n",
              "         [0.9860]]))"
            ]
          },
          "metadata": {},
          "execution_count": 29
        }
      ]
    },
    {
      "cell_type": "code",
      "source": [
        "plot_pred(predictions=y_pred)"
      ],
      "metadata": {
        "colab": {
          "base_uri": "https://localhost:8080/",
          "height": 599
        },
        "id": "TtfiRkqT4g2I",
        "outputId": "53fca4d7-d76d-46d8-c697-66c17bd567f3"
      },
      "execution_count": 34,
      "outputs": [
        {
          "output_type": "display_data",
          "data": {
            "text/plain": [
              "<Figure size 1000x700 with 1 Axes>"
            ],
            "image/png": "[encoded data removed]"
          },
          "metadata": {}
        }
      ]
    },
    {
      "cell_type": "code",
      "source": [
        "#train model using a loss function and optimizer\n",
        "\n",
        "#set up a loss function\n",
        "loss_fn=nn.L1Loss()\n",
        "loss_fn\n",
        "\n",
        "\n",
        "#set up an optimizer\n",
        "optimizer=torch.optim.SGD(params=model_0.parameters(),lr=0.01)"
      ],
      "metadata": {
        "id": "ru3nYOBs6fFB"
      },
      "execution_count": 147,
      "outputs": []
    },
    {
      "cell_type": "code",
      "source": [
        "#building a training loop and testing loop\n",
        "#loop through the data\n",
        "#forward propagation\n",
        "#calculate the loss\n",
        "#optimizer\n",
        "#loss backward(backpropagation)\n",
        "#optimizer step\n",
        "\n",
        "torch.manual_seed(42)\n",
        "epochs=200   #this is a hyperparameter hyperparameters are parameters we set ourselves\n",
        "epoch_count=[]\n",
        "loss_values=[]\n",
        "test_loss_values=[]\n",
        "\n",
        "for epoch in range(epochs):\n",
        "  #set training mode\n",
        "  model_0.train()\n",
        "  #forward prop\n",
        "  y_pred=model_0(x_train)\n",
        "  #calculate loss\n",
        "  loss=loss_fn(y_pred,y_train)\n",
        "  #print(f\"loss:{loss}\")\n",
        "  #optimizer\n",
        "  optimizer.zero_grad()\n",
        "  #backprop\n",
        "  loss.backward()\n",
        "  #gradient descent (gradient descent)\n",
        "  optimizer.step()\n",
        "  #testing\n",
        "  model_0.eval()#turns off gradient tracking for testing\n",
        "  with torch.inference_mode():\n",
        "    #forward pass\n",
        "    test_pred=model_0(x_test)\n",
        "    #calculate test loss\n",
        "    test_loss=loss_fn(test_pred,y_test)\n",
        "  if epoch%10==0:\n",
        "    print(f\"epoch: {epoch} loss: {loss} test loss: {test_loss}\" )\n",
        "    epoch_count.append(epoch)\n",
        "    loss_values.append(loss)\n",
        "    test_loss_values.append(test_loss)\n",
        "    print(model_0.state_dict())"
      ],
      "metadata": {
        "colab": {
          "base_uri": "https://localhost:8080/"
        },
        "id": "bJdHq0pbFAMm",
        "outputId": "c01a0e3f-8179-4202-9f65-368d2b5b3714"
      },
      "execution_count": 148,
      "outputs": [
        {
          "output_type": "stream",
          "name": "stdout",
          "text": [
            "epoch: 0 loss: 0.31288138031959534 test loss: 0.48106518387794495\n",
            "OrderedDict([('weight', tensor([0.3406])), ('bias', tensor([0.1388]))])\n",
            "epoch: 10 loss: 0.1976713240146637 test loss: 0.3463551998138428\n",
            "OrderedDict([('weight', tensor([0.3796])), ('bias', tensor([0.2388]))])\n",
            "epoch: 20 loss: 0.08908725529909134 test loss: 0.21729660034179688\n",
            "OrderedDict([('weight', tensor([0.4184])), ('bias', tensor([0.3333]))])\n",
            "epoch: 30 loss: 0.053148526698350906 test loss: 0.14464017748832703\n",
            "OrderedDict([('weight', tensor([0.4512])), ('bias', tensor([0.3768]))])\n",
            "epoch: 40 loss: 0.04543796554207802 test loss: 0.11360953003168106\n",
            "OrderedDict([('weight', tensor([0.4748])), ('bias', tensor([0.3868]))])\n",
            "epoch: 50 loss: 0.04167863354086876 test loss: 0.09919948130846024\n",
            "OrderedDict([('weight', tensor([0.4938])), ('bias', tensor([0.3843]))])\n",
            "epoch: 60 loss: 0.03818932920694351 test loss: 0.08886633068323135\n",
            "OrderedDict([('weight', tensor([0.5116])), ('bias', tensor([0.3788]))])\n",
            "epoch: 70 loss: 0.03476089984178543 test loss: 0.0805937647819519\n",
            "OrderedDict([('weight', tensor([0.5288])), ('bias', tensor([0.3718]))])\n",
            "epoch: 80 loss: 0.03132382780313492 test loss: 0.07232122868299484\n",
            "OrderedDict([('weight', tensor([0.5459])), ('bias', tensor([0.3648]))])\n",
            "epoch: 90 loss: 0.02788739837706089 test loss: 0.06473556160926819\n",
            "OrderedDict([('weight', tensor([0.5629])), ('bias', tensor([0.3573]))])\n",
            "epoch: 100 loss: 0.024458957836031914 test loss: 0.05646304413676262\n",
            "OrderedDict([('weight', tensor([0.5800])), ('bias', tensor([0.3503]))])\n",
            "epoch: 110 loss: 0.021020207554101944 test loss: 0.04819049686193466\n",
            "OrderedDict([('weight', tensor([0.5972])), ('bias', tensor([0.3433]))])\n",
            "epoch: 120 loss: 0.01758546568453312 test loss: 0.04060482233762741\n",
            "OrderedDict([('weight', tensor([0.6141])), ('bias', tensor([0.3358]))])\n",
            "epoch: 130 loss: 0.014155393466353416 test loss: 0.03233227878808975\n",
            "OrderedDict([('weight', tensor([0.6313])), ('bias', tensor([0.3288]))])\n",
            "epoch: 140 loss: 0.010716589167714119 test loss: 0.024059748277068138\n",
            "OrderedDict([('weight', tensor([0.6485])), ('bias', tensor([0.3218]))])\n",
            "epoch: 150 loss: 0.0072835334576666355 test loss: 0.016474086791276932\n",
            "OrderedDict([('weight', tensor([0.6654])), ('bias', tensor([0.3143]))])\n",
            "epoch: 160 loss: 0.0038517764769494534 test loss: 0.008201557211577892\n",
            "OrderedDict([('weight', tensor([0.6826])), ('bias', tensor([0.3073]))])\n",
            "epoch: 170 loss: 0.008932482451200485 test loss: 0.005023092031478882\n",
            "OrderedDict([('weight', tensor([0.6951])), ('bias', tensor([0.2993]))])\n",
            "epoch: 180 loss: 0.008932482451200485 test loss: 0.005023092031478882\n",
            "OrderedDict([('weight', tensor([0.6951])), ('bias', tensor([0.2993]))])\n",
            "epoch: 190 loss: 0.008932482451200485 test loss: 0.005023092031478882\n",
            "OrderedDict([('weight', tensor([0.6951])), ('bias', tensor([0.2993]))])\n"
          ]
        }
      ]
    },
    {
      "cell_type": "code",
      "source": [
        "model_0.state_dict()"
      ],
      "metadata": {
        "colab": {
          "base_uri": "https://localhost:8080/"
        },
        "id": "pl80EfosHqxJ",
        "outputId": "aba761c8-e524-429d-c399-55820220030c"
      },
      "execution_count": 8,
      "outputs": [
        {
          "output_type": "execute_result",
          "data": {
            "text/plain": [
              "OrderedDict([('weight', tensor([0.3367])), ('bias', tensor([0.1288]))])"
            ]
          },
          "metadata": {},
          "execution_count": 8
        }
      ]
    },
    {
      "cell_type": "code",
      "source": [
        "model_0.state_dict(),weight,bias"
      ],
      "metadata": {
        "colab": {
          "base_uri": "https://localhost:8080/"
        },
        "id": "5ndF5TSTzSpa",
        "outputId": "181c8ae5-5865-43ed-91fd-5ab87b623bf5"
      },
      "execution_count": 141,
      "outputs": [
        {
          "output_type": "execute_result",
          "data": {
            "text/plain": [
              "(OrderedDict([('weight', tensor([0.6994])), ('bias', tensor([0.2998]))]),\n",
              " 0.7,\n",
              " 0.3)"
            ]
          },
          "metadata": {},
          "execution_count": 141
        }
      ]
    },
    {
      "cell_type": "code",
      "source": [
        "with torch.inference_mode():\n",
        "  y_pred=model_0(x_test)\n",
        "  plot_pred(predictions=y_pred)"
      ],
      "metadata": {
        "colab": {
          "base_uri": "https://localhost:8080/",
          "height": 599
        },
        "id": "bDX3X2gs0Wds",
        "outputId": "3794cd62-933f-40ae-bd20-94844bd8ae2d"
      },
      "execution_count": 149,
      "outputs": [
        {
          "output_type": "display_data",
          "data": {
            "text/plain": [
              "<Figure size 1000x700 with 1 Axes>"
            ],
            "image/png": "[encoded data removed]"
          },
          "metadata": {}
        }
      ]
    },
    {
      "cell_type": "code",
      "source": [
        "#plot the loss curves\n",
        "plt.plot(torch.tensor(epoch_count).numpy(),torch.tensor(loss_values).numpy(),label=\"train loss\")\n",
        "plt.plot(torch.tensor(epoch_count).numpy(),torch.tensor(test_loss_values).numpy(),label=\"test loss\")\n",
        "plt.title(\"training and test loss curve\")\n",
        "plt.xlabel(\"epochs\")\n",
        "plt.ylabel(\"loss\")\n",
        "plt.legend()"
      ],
      "metadata": {
        "colab": {
          "base_uri": "https://localhost:8080/",
          "height": 489
        },
        "id": "wQVUq7Hj1Lp_",
        "outputId": "9b8f9d3e-f8be-4713-f56f-d476162ffe8a"
      },
      "execution_count": 152,
      "outputs": [
        {
          "output_type": "execute_result",
          "data": {
            "text/plain": [
              "<matplotlib.legend.Legend at 0x7c05e7992ce0>"
            ]
          },
          "metadata": {},
          "execution_count": 152
        },
        {
          "output_type": "display_data",
          "data": {
            "text/plain": [
              "<Figure size 640x480 with 1 Axes>"
            ],
            "image/png": "[encoded data removed]"
          },
          "metadata": {}
        }
      ]
    },
    {
      "cell_type": "code",
      "source": [
        "#saving a model\n",
        "from pathlib import Path\n",
        "\n",
        "#creating directory\n",
        "MODEL_PATH=Path(\"models\")\n",
        "MODEL_PATH.mkdir(parents=True,exist_ok=True)\n",
        "MODEL_NAME=\"model_01.pth\"\n",
        "MODEL_SAVE_PATH=MODEL_PATH/MODEL_NAME\n",
        "\n",
        "\n",
        "#saving model\n",
        "print(f\"saving to {MODEL_SAVE_PATH}\")\n",
        "torch.save(obj=model_0.state_dict(),f=MODEL_SAVE_PATH)"
      ],
      "metadata": {
        "colab": {
          "base_uri": "https://localhost:8080/"
        },
        "id": "qCKKqjwn-Udr",
        "outputId": "3ac9f9a1-27e3-4a05-9847-7ae7828cf709"
      },
      "execution_count": 154,
      "outputs": [
        {
          "output_type": "stream",
          "name": "stdout",
          "text": [
            "saving to models/model_01.pth\n"
          ]
        }
      ]
    },
    {
      "cell_type": "code",
      "source": [
        "#loading a model\n",
        "loaded_model=LinearRegressionModel()\n",
        "loaded_model.load_state_dict(torch.load(f=MODEL_SAVE_PATH))\n",
        "loaded_model.state_dict()"
      ],
      "metadata": {
        "colab": {
          "base_uri": "https://localhost:8080/"
        },
        "id": "Zc9T2FTbAv1P",
        "outputId": "7930de46-e11a-4993-ce6c-5e5cbf07700e"
      },
      "execution_count": 155,
      "outputs": [
        {
          "output_type": "execute_result",
          "data": {
            "text/plain": [
              "OrderedDict([('weight', tensor([0.6990])), ('bias', tensor([0.3093]))])"
            ]
          },
          "metadata": {},
          "execution_count": 155
        }
      ]
    },
    {
      "cell_type": "code",
      "source": [
        "#putting it all together\n",
        "import torch\n",
        "from torch import nn\n",
        "import matplotlib.pyplot as plt\n",
        "\n"
      ],
      "metadata": {
        "id": "77m2n-rBCfT_"
      },
      "execution_count": 1,
      "outputs": []
    },
    {
      "cell_type": "code",
      "source": [
        "#setup device agnostic code\n",
        "device=\"cuda\" if torch.cuda.is_available() else \"cpu\"\n",
        "print(f\"using {device}\")"
      ],
      "metadata": {
        "colab": {
          "base_uri": "https://localhost:8080/"
        },
        "id": "Han5f084CrkX",
        "outputId": "fd709d72-7784-47e3-e7c3-64b7bffdc616"
      },
      "execution_count": 2,
      "outputs": [
        {
          "output_type": "stream",
          "name": "stdout",
          "text": [
            "using cuda\n"
          ]
        }
      ]
    },
    {
      "cell_type": "code",
      "source": [
        "#data for the formula weight*x + bias = y\n",
        "weight =0.9\n",
        "bias =0.2\n",
        "\n",
        "start=0\n",
        "end=1\n",
        "step=0.02\n",
        "\n",
        "#create x=features and y=labels\n",
        "x=torch.arange(start,end,step).unsqueeze(dim=1)\n",
        "\n",
        "y=weight*x + bias"
      ],
      "metadata": {
        "id": "DEalmXca3A8C"
      },
      "execution_count": 3,
      "outputs": []
    },
    {
      "cell_type": "code",
      "source": [
        "train_split=int(0.8*len(x))\n",
        "x_train=x[:train_split]\n",
        "y_train=y[:train_split]\n",
        "\n",
        "x_test = x[train_split:]\n",
        "y_test = y[train_split:]\n"
      ],
      "metadata": {
        "id": "91OSf08k4ire"
      },
      "execution_count": 4,
      "outputs": []
    },
    {
      "cell_type": "code",
      "source": [
        "def plot_pred(train_data=x_train,train_label=y_train,test_data=x_test,test_label=y_test,predictions=None):\n",
        "  \"plot\"\n",
        "  plt.figure(figsize=(8,5))\n",
        "  plt.scatter(train_data,train_label,c=\"b\",s=4,label=\"training data\")\n",
        "\n",
        "  plt.scatter(test_data,test_label,c=\"r\",s=4,label=\"testing data\")\n",
        "\n",
        "  if predictions!=None:\n",
        "    plt.scatter(test_data,predictions,c=\"g\",s=4,label=\"predictions\")\n",
        "  plt.legend(prop={\"size\":14})"
      ],
      "metadata": {
        "id": "juQgXGYW5d8v"
      },
      "execution_count": 5,
      "outputs": []
    },
    {
      "cell_type": "code",
      "source": [
        "plot_pred()"
      ],
      "metadata": {
        "colab": {
          "base_uri": "https://localhost:8080/",
          "height": 445
        },
        "id": "RkzJXuua5h3I",
        "outputId": "bdc1e234-c9b6-400d-8caa-c82169553c45"
      },
      "execution_count": 6,
      "outputs": [
        {
          "output_type": "display_data",
          "data": {
            "text/plain": [
              "<Figure size 800x500 with 1 Axes>"
            ],
            "image/png": "[encoded data removed]"
          },
          "metadata": {}
        }
      ]
    },
    {
      "cell_type": "code",
      "source": [
        "#create a linear mode\n",
        "class LinearRegressionModel2(nn.Module):\n",
        "  def __init__(self):\n",
        "    super().__init__()\n",
        "    self.linear_layer=nn.Linear(in_features=1,out_features=1)\n",
        "  def forward(self,x:torch.tensor)->torch.tensor:\n",
        "    return self.linear_layer(x)\n",
        "\n",
        "torch.manual_seed(42)\n",
        "model_1=LinearRegressionModel2()\n",
        "model_1.state_dict()"
      ],
      "metadata": {
        "colab": {
          "base_uri": "https://localhost:8080/"
        },
        "id": "xC6UUzKW5t4B",
        "outputId": "86ebe3f0-a016-4f45-f31a-6a9b60e0c646"
      },
      "execution_count": 7,
      "outputs": [
        {
          "output_type": "execute_result",
          "data": {
            "text/plain": [
              "OrderedDict([('linear_layer.weight', tensor([[0.7645]])),\n",
              "             ('linear_layer.bias', tensor([0.8300]))])"
            ]
          },
          "metadata": {},
          "execution_count": 7
        }
      ]
    },
    {
      "cell_type": "code",
      "source": [
        "#set the model to the device\n",
        "model_1.to(device)\n",
        "next(model_1.parameters()).device"
      ],
      "metadata": {
        "colab": {
          "base_uri": "https://localhost:8080/"
        },
        "id": "alTjin8j8213",
        "outputId": "a298148b-054a-4995-90da-9e8abb6811ae"
      },
      "execution_count": 8,
      "outputs": [
        {
          "output_type": "execute_result",
          "data": {
            "text/plain": [
              "device(type='cuda', index=0)"
            ]
          },
          "metadata": {},
          "execution_count": 8
        }
      ]
    },
    {
      "cell_type": "code",
      "source": [
        "loss_fn=nn.L1Loss()\n",
        "optimizer=torch.optim.SGD(params=model_1.parameters(),lr=0.01)\n"
      ],
      "metadata": {
        "id": "RfMNa9YJ9JTw"
      },
      "execution_count": 9,
      "outputs": []
    },
    {
      "cell_type": "code",
      "source": [
        "torch.manual_seed(42)\n",
        "\n",
        "epochs=400\n",
        "\n",
        "#put data on the device\n",
        "x_train=x_train.to(device)\n",
        "y_train=y_train.to(device)\n",
        "x_test=x_test.to(device)\n",
        "y_test=y_test.to(device)\n",
        "\n",
        "for epoch in range(epochs):\n",
        "  model_1.train()\n",
        "\n",
        "  y_pred=model_1(x_train)\n",
        "\n",
        "  loss=loss_fn(y_pred,y_train)\n",
        "\n",
        "  optimizer.zero_grad()\n",
        "\n",
        "  loss.backward()\n",
        "  optimizer.step()\n",
        "\n",
        "  #testing\n",
        "  model_1.eval()\n",
        "  with torch.inference_mode():\n",
        "    test_pred = model_1(x_test)\n",
        "    test_loss = loss_fn(test_pred,y_test)\n",
        "\n",
        "  if epoch % 10 == 0:\n",
        "    print(f\"epoch: {epoch} loss: {loss} test loss: {test_loss}\")"
      ],
      "metadata": {
        "colab": {
          "base_uri": "https://localhost:8080/"
        },
        "id": "Mb-GxR_E9qt0",
        "outputId": "4ab70910-6619-4fb1-9c3d-d14aff762300"
      },
      "execution_count": 10,
      "outputs": [
        {
          "output_type": "stream",
          "name": "stdout",
          "text": [
            "epoch: 0 loss: 0.5771779417991638 test loss: 0.4959762692451477\n",
            "epoch: 10 loss: 0.4619680345058441 test loss: 0.36126643419265747\n",
            "epoch: 20 loss: 0.3467581868171692 test loss: 0.22655658423900604\n",
            "epoch: 30 loss: 0.23154833912849426 test loss: 0.09184672683477402\n",
            "epoch: 40 loss: 0.11633846908807755 test loss: 0.04286307841539383\n",
            "epoch: 50 loss: 0.06952286511659622 test loss: 0.11123485863208771\n",
            "epoch: 60 loss: 0.06158292293548584 test loss: 0.1282694786787033\n",
            "epoch: 70 loss: 0.05754905566573143 test loss: 0.12829315662384033\n",
            "epoch: 80 loss: 0.05402094125747681 test loss: 0.12414190918207169\n",
            "epoch: 90 loss: 0.050549186766147614 test loss: 0.11724313348531723\n",
            "epoch: 100 loss: 0.047114234417676926 test loss: 0.10965748131275177\n",
            "epoch: 110 loss: 0.043684374541044235 test loss: 0.10138493031263351\n",
            "epoch: 120 loss: 0.04024557024240494 test loss: 0.09311238676309586\n",
            "epoch: 130 loss: 0.036812301725149155 test loss: 0.0855267345905304\n",
            "epoch: 140 loss: 0.03338075056672096 test loss: 0.07725419104099274\n",
            "epoch: 150 loss: 0.029941951856017113 test loss: 0.06898163259029388\n",
            "epoch: 160 loss: 0.026510363444685936 test loss: 0.06139598414301872\n",
            "epoch: 170 loss: 0.02307713031768799 test loss: 0.05312347039580345\n",
            "epoch: 180 loss: 0.019638320431113243 test loss: 0.044850993901491165\n",
            "epoch: 190 loss: 0.016208423301577568 test loss: 0.03726539760828018\n",
            "epoch: 200 loss: 0.012773505412042141 test loss: 0.028992921113967896\n",
            "epoch: 210 loss: 0.009334918111562729 test loss: 0.021407341584563255\n",
            "epoch: 220 loss: 0.005906470585614443 test loss: 0.013134854845702648\n",
            "epoch: 230 loss: 0.002469874219968915 test loss: 0.004862380214035511\n",
            "epoch: 240 loss: 0.00448277872055769 test loss: 0.005793172400444746\n",
            "epoch: 250 loss: 0.00448277872055769 test loss: 0.005793172400444746\n",
            "epoch: 260 loss: 0.00448277872055769 test loss: 0.005793172400444746\n",
            "epoch: 270 loss: 0.00448277872055769 test loss: 0.005793172400444746\n",
            "epoch: 280 loss: 0.00448277872055769 test loss: 0.005793172400444746\n",
            "epoch: 290 loss: 0.00448277872055769 test loss: 0.005793172400444746\n",
            "epoch: 300 loss: 0.00448277872055769 test loss: 0.005793172400444746\n",
            "epoch: 310 loss: 0.00448277872055769 test loss: 0.005793172400444746\n",
            "epoch: 320 loss: 0.00448277872055769 test loss: 0.005793172400444746\n",
            "epoch: 330 loss: 0.00448277872055769 test loss: 0.005793172400444746\n",
            "epoch: 340 loss: 0.00448277872055769 test loss: 0.005793172400444746\n",
            "epoch: 350 loss: 0.00448277872055769 test loss: 0.005793172400444746\n",
            "epoch: 360 loss: 0.00448277872055769 test loss: 0.005793172400444746\n",
            "epoch: 370 loss: 0.00448277872055769 test loss: 0.005793172400444746\n",
            "epoch: 380 loss: 0.00448277872055769 test loss: 0.005793172400444746\n",
            "epoch: 390 loss: 0.00448277872055769 test loss: 0.005793172400444746\n"
          ]
        }
      ]
    },
    {
      "cell_type": "code",
      "source": [
        "model_1.state_dict(),weight,bias"
      ],
      "metadata": {
        "colab": {
          "base_uri": "https://localhost:8080/"
        },
        "id": "bi7oMmMH_hIe",
        "outputId": "cd40e97a-3054-4e05-c29f-61d06ed0797c"
      },
      "execution_count": 11,
      "outputs": [
        {
          "output_type": "execute_result",
          "data": {
            "text/plain": [
              "(OrderedDict([('linear_layer.weight', tensor([[0.8936]], device='cuda:0')),\n",
              "              ('linear_layer.bias', tensor([0.1980], device='cuda:0'))]),\n",
              " 0.9,\n",
              " 0.2)"
            ]
          },
          "metadata": {},
          "execution_count": 11
        }
      ]
    },
    {
      "cell_type": "code",
      "source": [
        "model_1.eval()\n",
        "with torch.inference_mode():\n",
        "  y_preds=model_1(x_test)\n",
        "y_preds\n",
        "plot_pred(predictions=y_preds.cpu())"
      ],
      "metadata": {
        "colab": {
          "base_uri": "https://localhost:8080/",
          "height": 445
        },
        "id": "RfFtMAbJAbIg",
        "outputId": "c5d859d8-b6f5-4236-9318-318757631544"
      },
      "execution_count": 14,
      "outputs": [
        {
          "output_type": "display_data",
          "data": {
            "text/plain": [
              "<Figure size 800x500 with 1 Axes>"
            ],
            "image/png": "[encoded data removed]"
          },
          "metadata": {}
        }
      ]
    },
    {
      "cell_type": "code",
      "source": [
        "#save the model\n",
        "from pathlib import Path\n",
        "\n",
        "#creating directory\n",
        "MODEL_PATH=Path(\"models\")\n",
        "MODEL_PATH.mkdir(parents=True,exist_ok=True)\n",
        "MODEL_NAME=\"model_01.pth\"\n",
        "MODEL_SAVE_PATH=MODEL_PATH/MODEL_NAME\n",
        "\n",
        "\n",
        "#saving model\n",
        "print(f\"saving to {MODEL_SAVE_PATH}\")\n",
        "torch.save(obj=model_1.state_dict(),f=MODEL_SAVE_PATH)"
      ],
      "metadata": {
        "colab": {
          "base_uri": "https://localhost:8080/"
        },
        "id": "4ThbrrO4BbPA",
        "outputId": "e08addc9-1307-48ff-ba84-c36ace0d0e5d"
      },
      "execution_count": 16,
      "outputs": [
        {
          "output_type": "stream",
          "name": "stdout",
          "text": [
            "saving to models/model_01.pth\n"
          ]
        }
      ]
    },
    {
      "cell_type": "code",
      "source": [
        "#loading a model\n",
        "loaded_model=LinearRegressionModel2()\n",
        "loaded_model.load_state_dict(torch.load(f=MODEL_SAVE_PATH))\n",
        "loaded_model.to(device)\n",
        "loaded_model.state_dict()"
      ],
      "metadata": {
        "colab": {
          "base_uri": "https://localhost:8080/"
        },
        "id": "Kzfo-3o5Bvp9",
        "outputId": "28e66ad2-25f9-4a7d-a1e7-a43a84ec5849"
      },
      "execution_count": 19,
      "outputs": [
        {
          "output_type": "execute_result",
          "data": {
            "text/plain": [
              "OrderedDict([('linear_layer.weight', tensor([[0.8936]], device='cuda:0')),\n",
              "             ('linear_layer.bias', tensor([0.1980], device='cuda:0'))])"
            ]
          },
          "metadata": {},
          "execution_count": 19
        }
      ]
    }
  ]
}